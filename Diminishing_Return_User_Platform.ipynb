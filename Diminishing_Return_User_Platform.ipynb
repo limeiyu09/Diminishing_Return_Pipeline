{
 "cells": [
  {
   "cell_type": "markdown",
   "id": "57789047",
   "metadata": {},
   "source": [
    "## Run first cell once"
   ]
  },
  {
   "cell_type": "code",
   "execution_count": null,
   "id": "731c0566",
   "metadata": {},
   "outputs": [],
   "source": [
    "import diminishing_return_class\n",
    "dr = diminishing_return_class.diminishing_return()"
   ]
  },
  {
   "cell_type": "markdown",
   "id": "b2f582b2",
   "metadata": {},
   "source": [
    "## User my set parameters multiple times and run"
   ]
  },
  {
   "cell_type": "code",
   "execution_count": null,
   "id": "6c051fb0",
   "metadata": {},
   "outputs": [],
   "source": [
    "# Please insert a data range with format: YYYY-MM-DD\n",
    "start_date = \"2022-01-01\"\n",
    "end_date = \"2023-05-30\"\n",
    "# Please insert country(ies)\n",
    "countries = [\"United States\"]\n",
    "# Please select valid funnel(s) from: Attract, Engage, Acquire\n",
    "funnels = ['Acquire']\n",
    "# Please select valid channel(s)\n",
    "channels = ['']\n",
    "# If you want result by Partner, please choose \"Yes\". Otherwise, please choose \"No\" for Channel level result\n",
    "partner = \"Yes\"\n",
    "# Please select one of the measurement:\n",
    "# Impressions, Clicks, Page Views, ESV, Free Signups, Paid Signups\n",
    "measure = \"Free Signups\"\n",
    "cost_per = 1000\n",
    "\n",
    "\n",
    "'''-----------------------------------------------No Editing Below This Line-------------------------------------------------'''\n",
    "\n",
    "dr.run(countries, funnels, channels, partner, measure, start_date, end_date, cost_per)"
   ]
  }
 ],
 "metadata": {
  "kernelspec": {
   "display_name": "Python 3",
   "language": "python",
   "name": "python3"
  },
  "language_info": {
   "codemirror_mode": {
    "name": "ipython",
    "version": 3
   },
   "file_extension": ".py",
   "mimetype": "text/x-python",
   "name": "python",
   "nbconvert_exporter": "python",
   "pygments_lexer": "ipython3",
   "version": "3.7.1"
  }
 },
 "nbformat": 4,
 "nbformat_minor": 5
}
